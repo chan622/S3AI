{
 "cells": [
  {
   "cell_type": "markdown",
   "id": "c07b59ca",
   "metadata": {},
   "source": [
    "## 姓名：李XX   班別：S3X   學號：99"
   ]
  },
  {
   "cell_type": "markdown",
   "id": "7994c35e",
   "metadata": {},
   "source": [
    "## 練習一：\n",
    "\n",
    "讀取並播放 2 倍速的 talk.mp4 灰階影片"
   ]
  },
  {
   "cell_type": "code",
   "execution_count": null,
   "id": "aa0829c6",
   "metadata": {},
   "outputs": [],
   "source": []
  },
  {
   "cell_type": "markdown",
   "id": "fd8faafe",
   "metadata": {},
   "source": [
    "## 練習二：\n",
    "\n",
    "讀取並顯示 talk.mp4 全彩影片，並在影片中進行人臉檢測(用紅框框出人臉)"
   ]
  },
  {
   "cell_type": "code",
   "execution_count": null,
   "id": "07e26082",
   "metadata": {},
   "outputs": [],
   "source": []
  },
  {
   "cell_type": "markdown",
   "id": "4a002e43",
   "metadata": {},
   "source": [
    "## 練習三：\n",
    "<ol>\n",
    "    <li>運用按鍵事件「間斷地」錄製攝像頭的部份畫面，並儲存成「exercise_5_3.mp4」檔案；</li>\n",
    "    <li>運用按鍵事件儲存當前畫面，命名為「exercise_5_3(X).jpg」，其中 X 為流水號 </li>\n",
    "</ol>"
   ]
  },
  {
   "cell_type": "code",
   "execution_count": null,
   "id": "3cd8c07c",
   "metadata": {},
   "outputs": [],
   "source": []
  },
  {
   "cell_type": "markdown",
   "id": "738b0d08",
   "metadata": {},
   "source": [
    "完成後上傳至Google Classroom."
   ]
  }
 ],
 "metadata": {
  "kernelspec": {
   "display_name": "Python 3",
   "language": "python",
   "name": "python3"
  },
  "language_info": {
   "codemirror_mode": {
    "name": "ipython",
    "version": 3
   },
   "file_extension": ".py",
   "mimetype": "text/x-python",
   "name": "python",
   "nbconvert_exporter": "python",
   "pygments_lexer": "ipython3",
   "version": "3.7.6"
  }
 },
 "nbformat": 4,
 "nbformat_minor": 5
}

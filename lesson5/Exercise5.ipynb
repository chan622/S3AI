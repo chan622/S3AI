{
 "cells": [
  {
   "cell_type": "markdown",
   "id": "9868ef21",
   "metadata": {},
   "source": [
    "## 姓名：李XX   班別：S3X   學號：99"
   ]
  },
  {
   "cell_type": "markdown",
   "id": "b591ac7c",
   "metadata": {},
   "source": [
    "## 練習一：\n",
    "\n",
    "讀取並播放 2 倍速的 talk.mp4 灰階影片"
   ]
  },
  {
   "cell_type": "code",
   "execution_count": null,
   "id": "ac305e02",
   "metadata": {},
   "outputs": [],
   "source": []
  },
  {
   "cell_type": "markdown",
   "id": "d074b828",
   "metadata": {},
   "source": [
    "## 練習二：\n",
    "\n",
    "讀取並顯示 talk.mp4 全彩影片，並在影片中進行人臉檢測(用紅框框出人臉)"
   ]
  },
  {
   "cell_type": "code",
   "execution_count": null,
   "id": "e2ad6355",
   "metadata": {},
   "outputs": [],
   "source": []
  },
  {
   "cell_type": "markdown",
   "id": "0f9a3543",
   "metadata": {},
   "source": [
    "完成後上傳至Google Classroom."
   ]
  }
 ],
 "metadata": {
  "kernelspec": {
   "display_name": "Python 3",
   "language": "python",
   "name": "python3"
  },
  "language_info": {
   "codemirror_mode": {
    "name": "ipython",
    "version": 3
   },
   "file_extension": ".py",
   "mimetype": "text/x-python",
   "name": "python",
   "nbconvert_exporter": "python",
   "pygments_lexer": "ipython3",
   "version": "3.7.6"
  }
 },
 "nbformat": 4,
 "nbformat_minor": 5
}

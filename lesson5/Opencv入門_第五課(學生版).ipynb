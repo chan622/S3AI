{
 "cells": [
  {
   "cell_type": "code",
   "execution_count": null,
   "metadata": {},
   "outputs": [],
   "source": [
    "# opencv-python 入門 第五課\n",
    "\n",
    "# cv2.VideoCapture()\n",
    "# read()\n",
    "# cv2.flip()\n",
    "# cv2.VideoWriter_fourcc()\n",
    "# cv2.VideoWriter()\n",
    "# out.write()\n",
    "# out.release()"
   ]
  },
  {
   "cell_type": "code",
   "execution_count": null,
   "metadata": {},
   "outputs": [],
   "source": [
    "# 例子一：讀取並顯示正常速度的 talk.mp4 全彩影片\n",
    "\n",
    "import cv2  \n",
    "\n",
    "# 讀取視頻\n",
    "cap = cv2.VideoCapture('talk.mp4')\n",
    "# 首先讀取第一幀畫面\n",
    "ret, frame = cap.read()\n",
    "\n",
    "# 當第一幀畫面讀取成功則進入循環\n",
    "while (ret == True):\n",
    "    # 顯示當前畫面\n",
    "    cv2.imshow('video', frame)\n",
    "    # 讀取下一幀畫面，若無法讀取則退出循環\n",
    "    ret, frame = cap.read()\n",
    "    # 視頻刷新速率(數字越小 -> 刷新速度越快)、按鍵事件\n",
    "    # 影片格式為25幀/秒，1000毫秒 / 25幀 = 40(毫秒/幀)刷新速率\n",
    "    k = cv2.waitKey(40)\n",
    "    if (k & 0xff == ord('q')):  \n",
    "        break\n",
    "\n",
    "cap.release()\n",
    "cv2.destroyAllWindows()\n"
   ]
  },
  {
   "cell_type": "code",
   "execution_count": null,
   "metadata": {},
   "outputs": [],
   "source": [
    "# 例子二：讀取攝像頭畫面並顯示正常速度的全彩畫面\n",
    "\n",
    "import cv2\n",
    "\n",
    "# 讀取攝像頭(0為預設攝像頭、1/2/3...為外置攝像頭)\n",
    "cap = cv2.VideoCapture(0)\n",
    "# 首先讀取第一幀畫面\n",
    "ret, frame = cap.read()\n",
    "\n",
    "# 當第一幀畫面截取成功則進入循環\n",
    "while (ret == True):\n",
    "    # 0/1/-1 水平上下翻轉影像\n",
    "    frame = cv2.flip(frame, 1)\n",
    "    # 顯示當前畫面\n",
    "    cv2.imshow('camera', frame)\n",
    "    # 讀取下一幀畫面，讀取則退出循環\n",
    "    ret, frame = cap.read()\n",
    "    # 視頻刷新速率(數字越小 -> 刷新速度越快)、按鍵事件\n",
    "    k = cv2.waitKey(40)\n",
    "    if (k & 0xff == ord('q')):\n",
    "        break\n",
    "\n",
    "cap.release()\n",
    "cv2.destroyAllWindows()\n"
   ]
  },
  {
   "cell_type": "code",
   "execution_count": null,
   "metadata": {},
   "outputs": [],
   "source": [
    "# 例子三：讀取攝像頭畫面並錄製成 .mp4 全彩影片檔案\n",
    "\n",
    "import cv2\n",
    "\n",
    "cap = cv2.VideoCapture(0)\n",
    "\n",
    "# 設置錄製影片的命名、格式、速度、畫面尺寸\n",
    "fourcc = cv2.VideoWriter_fourcc(*'mp4v')\n",
    "out = cv2.VideoWriter('sample_5_3.mp4', fourcc, 25.0, (640,  480))\n",
    "\n",
    "ret, frame = cap.read()\n",
    "\n",
    "while (ret == True):\n",
    "    # 0/1/-1 水平上下翻轉影像\n",
    "    frame = cv2.flip(frame, 1)\n",
    "    \n",
    "    # 將當前畫面錄製\n",
    "    out.write(frame)\n",
    "    \n",
    "    cv2.imshow('frame', frame)\n",
    "    ret, frame = cap.read()\n",
    "    k = cv2.waitKey(40)\n",
    "    if (k & 0xff == ord('q')):\n",
    "        break\n",
    "\n",
    "# 結束錄製\n",
    "out.release()\n",
    "\n",
    "cap.release()\n",
    "cv2.destroyAllWindows()"
   ]
  }
 ],
 "metadata": {
  "kernelspec": {
   "display_name": "Python 3",
   "language": "python",
   "name": "python3"
  },
  "language_info": {
   "codemirror_mode": {
    "name": "ipython",
    "version": 3
   },
   "file_extension": ".py",
   "mimetype": "text/x-python",
   "name": "python",
   "nbconvert_exporter": "python",
   "pygments_lexer": "ipython3",
   "version": "3.7.6"
  }
 },
 "nbformat": 4,
 "nbformat_minor": 4
}

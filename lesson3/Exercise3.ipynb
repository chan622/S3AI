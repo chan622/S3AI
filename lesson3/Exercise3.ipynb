{
 "cells": [
  {
   "cell_type": "markdown",
   "id": "c350a4f4",
   "metadata": {},
   "source": [
    "## 姓名：李XX   班別：S3X   學號：99"
   ]
  },
  {
   "cell_type": "markdown",
   "id": "15955fea",
   "metadata": {},
   "source": [
    "## 練習一：\n",
    "<ul>\n",
    "<li>(1)讀取彩色圖像 girls.jpg 並顯示</li>\n",
    "<li>(2)截取並顯示圖像中每個人的臉</li>\n",
    "<li>(3)保存每張人臉的灰階圖，分別命名為「exercise_3_1(girlX).jpg」，其中X為數字</li>\n",
    "</ul>"
   ]
  },
  {
   "cell_type": "code",
   "execution_count": null,
   "id": "76684d76",
   "metadata": {},
   "outputs": [],
   "source": []
  },
  {
   "cell_type": "markdown",
   "id": "ca548d56",
   "metadata": {},
   "source": [
    "## 練習二：\n",
    "<ul>\n",
    "<li>(1)讀取彩色圖像 couple2.jpg 並顯示</li>\n",
    "<li>(2)用圓形標記出每張人臉</li>\n",
    "<li>(3)在男生人臉上方加入文字「boy」、在女生人臉上方加入文字「girl」</li>\n",
    "<li>(4)顯示和保存圖像，命名為「exercise_3_2.jpg」</li>\n",
    "</ul>"
   ]
  },
  {
   "cell_type": "code",
   "execution_count": null,
   "id": "790005dc",
   "metadata": {},
   "outputs": [],
   "source": []
  },
  {
   "cell_type": "markdown",
   "id": "a96f25e7",
   "metadata": {},
   "source": [
    "完成後把檔案上傳至Google Classroom."
   ]
  }
 ],
 "metadata": {
  "kernelspec": {
   "display_name": "Python 3",
   "language": "python",
   "name": "python3"
  },
  "language_info": {
   "codemirror_mode": {
    "name": "ipython",
    "version": 3
   },
   "file_extension": ".py",
   "mimetype": "text/x-python",
   "name": "python",
   "nbconvert_exporter": "python",
   "pygments_lexer": "ipython3",
   "version": "3.7.6"
  }
 },
 "nbformat": 4,
 "nbformat_minor": 5
}

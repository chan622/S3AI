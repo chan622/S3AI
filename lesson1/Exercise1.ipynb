{
 "cells": [
  {
   "cell_type": "markdown",
   "id": "0a72ce4d",
   "metadata": {},
   "source": [
    "## 姓名：李XX   班別：S3X   學號：99"
   ]
  },
  {
   "cell_type": "markdown",
   "id": "17477112",
   "metadata": {},
   "source": [
    "# 練習一：\n",
    "\n",
    "<ul>\n",
    "<li>(1)通過 cv2.imread 讀取 HappyFish.jpg 圖片，將圖片轉換成灰階</li>\n",
    "<li>(2)通過 cv2.imshow 將圖片顯示出來</li>\n",
    "<li>(3)通過 cv2.waitKey ，設定當按「q」時，程序退出</li>\n",
    "<li>(4)通過 cv2.waitKey 和 cv2.imwrite ，設定當按「s」時，程序將圖片命名為「exercise_1_1.jpg」保存，然後退出</li>\n",
    "</ul>"
   ]
  },
  {
   "cell_type": "code",
   "execution_count": null,
   "id": "2dd1df68",
   "metadata": {},
   "outputs": [],
   "source": []
  },
  {
   "cell_type": "markdown",
   "id": "dae3e359",
   "metadata": {},
   "source": [
    "# 練習二：\n",
    "<ul>\n",
    "<li>(1)通過 cv2.imread 讀取 starry_night.jpg 圖片 </li>\n",
    "<li>(2)通過 cv2.imshow 將「全彩」的圖片顯示出來，窗口命名為「exercise_1_2」</li>\n",
    "<li>(3)通過 cv2.waitKey ，設定當按「q」時，程序退出 </li>\n",
    "    <li>(4)通過 cv2.waitKey 和 cv2.imwrite ，設定當按「a」時，程序將「全彩」的圖片命名為「exercise_1_2a.jpg」並保存圖像和關閉視窗</li>\n",
    "    <li>(5)通過 cv2.waitKey 和 cv2.imwrite ，設定當按「b」時，程序將「灰階」的圖片命名為「exercise_1_2b.jpg」並保存圖像和關閉視窗</li>\n",
    "</ul>"
   ]
  },
  {
   "cell_type": "code",
   "execution_count": null,
   "id": "26b16878",
   "metadata": {},
   "outputs": [],
   "source": []
  },
  {
   "cell_type": "markdown",
   "id": "4241d6b1",
   "metadata": {},
   "source": [
    "# 練習三：\n",
    "<ul>\n",
    "    <li>1. 利用名為「exercise3」的窗口顯示「灰階」的 pic3.png </li>\n",
    "    <li>2. 當按「q」時，窗口關閉 </li>\n",
    "    <li>3. 當按「3」時，程序將：</li>\n",
    "    <ul>\n",
    "        <li>(i)「全彩」的圖片命名為「exercise_1_3a.jpg」保存圖像</li>\n",
    "        <li>(ii)  顯示「exercise_1_3a.jpg  saved」；</li>\n",
    "        <li>(iii) 「灰階」的圖片命名為「exercise_1_3b.jpg」保存圖像</li>\n",
    "        <li>(iv)  顯示「exercise_1_3b.jpg  saved」；</li>\n",
    "    </ul>\n",
    "</ul>"
   ]
  },
  {
   "cell_type": "code",
   "execution_count": null,
   "id": "cb5fb6b3",
   "metadata": {},
   "outputs": [],
   "source": []
  },
  {
   "cell_type": "markdown",
   "id": "7c87278e",
   "metadata": {},
   "source": [
    "完成後把檔案上傳至以下dropbox:<br>\n",
    "https://www.dropbox.com/scl/fo/047w9m17hckad39r2b4of/h?dl=0&rlkey=t8wx8h9ylto4zoaead5p8l5q0"
   ]
  }
 ],
 "metadata": {
  "kernelspec": {
   "display_name": "Python 3",
   "language": "python",
   "name": "python3"
  },
  "language_info": {
   "codemirror_mode": {
    "name": "ipython",
    "version": 3
   },
   "file_extension": ".py",
   "mimetype": "text/x-python",
   "name": "python",
   "nbconvert_exporter": "python",
   "pygments_lexer": "ipython3",
   "version": "3.7.6"
  }
 },
 "nbformat": 4,
 "nbformat_minor": 5
}

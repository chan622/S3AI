{
 "cells": [
  {
   "cell_type": "markdown",
   "id": "d7d1d4eb",
   "metadata": {},
   "source": [
    "## 姓名：李XX   班別：S3X   學號：99"
   ]
  },
  {
   "cell_type": "markdown",
   "id": "5b57f506",
   "metadata": {},
   "source": [
    "# 練習一：\n",
    "\n",
    "框出 lena.jpg 中人像的臉部 和 描出眼珠 <br>\n",
    "顯示圖片，同時將圖片命名為「exercise_2_1.jpg」並保存圖像"
   ]
  },
  {
   "cell_type": "code",
   "execution_count": null,
   "id": "6adff56e",
   "metadata": {},
   "outputs": [],
   "source": []
  },
  {
   "cell_type": "markdown",
   "id": "5a2efb8f",
   "metadata": {},
   "source": [
    "# 練習二：\n",
    "\n",
    "<ul>\n",
    "<li>(1)讀取全彩的 pic3.png</li>\n",
    "<li>(2)畫出圖片中的圖形，形狀和顏色盡量對應相同，左下角的矩形需設為實心圖形<li>\n",
    "    <ul>\n",
    "       <li>左上角的矩形RGB色碼：114 148 114</li>\n",
    "       <li>右上角的三角形RGB色碼：211 149 127</li>\n",
    "       <li>左下角的圓形RGB色碼：127 184 189</li>\n",
    "       <li>左下角的矩形RGB色碼：119 117 162</li>\n",
    "    </ul>\n",
    "<li>(3)在圖片左下角增加黑色文字「exercise_2_2」，字體大小為0.5</li>\n",
    "<li>(4)顯示圖片，同時將圖片命名為「exercise_2_2.jpg」並保存圖像</li>\n",
    "</ul>"
   ]
  },
  {
   "cell_type": "code",
   "execution_count": null,
   "id": "b420f1a8",
   "metadata": {},
   "outputs": [],
   "source": []
  },
  {
   "cell_type": "markdown",
   "id": "e082ee40",
   "metadata": {},
   "source": [
    "完成後把檔案上傳至以下dropbox: <br>\n",
    "https://www.dropbox.com/request/DNJF7XqHoXJYKiPi8lN9"
   ]
  }
 ],
 "metadata": {
  "kernelspec": {
   "display_name": "Python 3",
   "language": "python",
   "name": "python3"
  },
  "language_info": {
   "codemirror_mode": {
    "name": "ipython",
    "version": 3
   },
   "file_extension": ".py",
   "mimetype": "text/x-python",
   "name": "python",
   "nbconvert_exporter": "python",
   "pygments_lexer": "ipython3",
   "version": "3.7.6"
  }
 },
 "nbformat": 4,
 "nbformat_minor": 5
}

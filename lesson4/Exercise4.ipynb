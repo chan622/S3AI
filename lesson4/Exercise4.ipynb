{
 "cells": [
  {
   "cell_type": "markdown",
   "id": "386a95a2",
   "metadata": {},
   "source": [
    "## 姓名：李XX   班別：S3X   學號：99"
   ]
  },
  {
   "cell_type": "markdown",
   "id": "734535fc",
   "metadata": {},
   "source": [
    "## 練習一："
   ]
  },
  {
   "cell_type": "markdown",
   "id": "4f3c444c",
   "metadata": {},
   "source": [
    "<ui>\n",
    "<li>(1) 讀取並顯示彩色原圖像 girls.jpg</li>\n",
    "<li>(2) 用「黃色十字」標記出圖像中女生的眼部</li>\n",
    "<li>(3) 在每一隻眼的上方標記「有序數字」，例如 1 / 2 / 3 ...</li>\n",
    "<li>(4) 顯示和保存圖像，命名為「exercise_4_1.jpg」</li>\n",
    "</ui>"
   ]
  },
  {
   "cell_type": "code",
   "execution_count": null,
   "id": "7c74f0ef",
   "metadata": {},
   "outputs": [],
   "source": []
  },
  {
   "cell_type": "markdown",
   "id": "c87aa6c3",
   "metadata": {},
   "source": [
    "## 練習二："
   ]
  },
  {
   "cell_type": "markdown",
   "id": "3bf9ba47",
   "metadata": {},
   "source": [
    "<ui>\n",
    "<li>(1)讀取彩色原圖像 FCB.jpg</li>\n",
    "<li>(2)用紅框框出所有人的臉部</li>\n",
    "<li>(3)用綠框框出至少12隻眼</li>\n",
    "<li>(4)顯示和保存圖像，命名為「exercise_4_2.jpg」</li>\n",
    "</ui>"
   ]
  },
  {
   "cell_type": "code",
   "execution_count": null,
   "id": "ea5e2ddf",
   "metadata": {},
   "outputs": [],
   "source": []
  },
  {
   "cell_type": "markdown",
   "id": "a9fdd5c7",
   "metadata": {},
   "source": [
    "## 練習三："
   ]
  },
  {
   "cell_type": "markdown",
   "id": "82ff2f82",
   "metadata": {},
   "source": [
    "<ui>\n",
    "<li>(需要運用三角函數或直線斜率)練習三：\n",
    "<li>(1)讀取彩色原圖像 couple2.jpg</li>\n",
    "<li>(2)用「Ｏ」和線段為「couple2.jpg」中的情侶製作精美的「白色圓框眼鏡」</li>\n",
    "<li>(3)顯示和保存圖像，命名為「exercise_4_3.jpg」</li>\n",
    "</ui>"
   ]
  },
  {
   "cell_type": "code",
   "execution_count": null,
   "id": "2bfa7639",
   "metadata": {},
   "outputs": [],
   "source": []
  },
  {
   "cell_type": "markdown",
   "id": "c18cbe83",
   "metadata": {},
   "source": [
    "完成後把檔案上傳至Google Classroom."
   ]
  }
 ],
 "metadata": {
  "kernelspec": {
   "display_name": "Python 3",
   "language": "python",
   "name": "python3"
  },
  "language_info": {
   "codemirror_mode": {
    "name": "ipython",
    "version": 3
   },
   "file_extension": ".py",
   "mimetype": "text/x-python",
   "name": "python",
   "nbconvert_exporter": "python",
   "pygments_lexer": "ipython3",
   "version": "3.7.6"
  }
 },
 "nbformat": 4,
 "nbformat_minor": 5
}
